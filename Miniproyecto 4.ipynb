{
 "cells": [
  {
   "cell_type": "markdown",
   "metadata": {},
   "source": [
    "# Miniproyecto 4"
   ]
  },
  {
   "cell_type": "markdown",
   "metadata": {},
   "source": [
    "### David Soto 17551 & Miguel Valle 17102"
   ]
  },
  {
   "cell_type": "code",
   "execution_count": 3,
   "metadata": {},
   "outputs": [],
   "source": [
    "### Miniproyecto 4\n",
    "### Mancala Montecarlo\n",
    "### David Soto 17551 & Miguel Valle 17XXX\n",
    "import random\n",
    "import copy"
   ]
  },
  {
   "cell_type": "markdown",
   "metadata": {},
   "source": [
    "### Definición de Constantes y Tablero"
   ]
  },
  {
   "cell_type": "code",
   "execution_count": 4,
   "metadata": {},
   "outputs": [],
   "source": [
    "### Constantes\n",
    "PROPORCION = 1.0 / 12.0\n",
    "\n",
    "NOOB = 0\n",
    "AVANZADO = 500\n",
    "PRO = 10000\n",
    "\n",
    "IDJUGADOR = True\n",
    "IDAI = False\n",
    "\n",
    "GANAJUGADOR = 'Gano Jugador Humano'\n",
    "GANAAI = 'Gano la AI'\n",
    "EMPATE = 'Empate'\n",
    "\n",
    "POSICIONESOPUESTAS = {\n",
    "    0:12,\n",
    "    1:11,\n",
    "    2:10,\n",
    "    3:9,\n",
    "    4:8,\n",
    "    5:7,\n",
    "    7:5,\n",
    "    8:4,\n",
    "    9:3,\n",
    "    10:2,\n",
    "    11:1,\n",
    "    12:0\n",
    "}\n",
    "\n",
    "### Tablero\n",
    "tablero = [4, 4, 4, 4, 4, 4, 0, 4, 4, 4, 4, 4, 4, 0]"
   ]
  },
  {
   "cell_type": "markdown",
   "metadata": {},
   "source": [
    "### Función de elección uniforme de tiros posibles, imprimir tablero y evaluar resultado "
   ]
  },
  {
   "cell_type": "code",
   "execution_count": 5,
   "metadata": {},
   "outputs": [],
   "source": [
    "### Eleccion uniforme de los tiros posibles\n",
    "def eleccionMontecarlo(disponibles):\n",
    "    return random.choice(disponibles)\n",
    "\n",
    "### Recibe un tablero para poder imprimirlo en pantalla\n",
    "def printTablero(tablero):\n",
    "    print('#-----------------------TABLERO ACTUAL-----------------------#')\n",
    "    print('           HUMAN SIDE')\n",
    "    print(' ',12,' ',11,' ',10,'  ',9,'  ',8,'  ',7,'  ')\n",
    "    print('  ',tablero[12],'  ',tablero[11],'  ',tablero[10],'  ',tablero[9],'  ',tablero[8],'  ',tablero[7],'  ')\n",
    "    print(tablero[13],'                            ',tablero[6])\n",
    "    print('  ',tablero[0],'  ',tablero[1],'  ',tablero[2],'  ',tablero[3],'  ',tablero[4],'  ',tablero[5],'  ')\n",
    "    print('  ',1,'  ',2,'  ',3,'  ',4,'  ',5,'  ',6,'  ')\n",
    "    print('            AI SIDE')\n",
    "\n",
    "### Recibe un tablero y determina si el juego ha finalizado o no\n",
    "### Tambien devuelve en caso de finalizado el juego un String con el texto del ganador\n",
    "def evaluacionResultado(tablero):\n",
    "    if (tablero[0] == tablero[1] == tablero[2] == tablero[3] == tablero[4] == tablero[5] == 0) or (tablero[7] == tablero[8] == tablero[9] == tablero[10] == tablero[11] == tablero[12] == 0):\n",
    "        if (tablero[6] + tablero[5] + tablero[4] + tablero[3] + tablero[2] + tablero[1] + tablero[0]) > (tablero[13] + tablero[12] + tablero[11] + tablero[10] + tablero[9] + tablero[8] + tablero[7]):\n",
    "            return True, GANAAI\n",
    "        if (tablero[13] + tablero[12] + tablero[11] + tablero[10] + tablero[9] + tablero[8] + tablero[7]) > (tablero[6] + tablero[5] + tablero[4] + tablero[3] + tablero[2] + tablero[1] + tablero[0]):\n",
    "            return True, GANAJUGADOR\n",
    "        else:\n",
    "            return True, EMPATE\n",
    "    else:\n",
    "        return False, EMPATE"
   ]
  },
  {
   "cell_type": "markdown",
   "metadata": {},
   "source": [
    "### Función para hacer jugadas"
   ]
  },
  {
   "cell_type": "markdown",
   "metadata": {},
   "source": [
    "### Función para algoritmo montecarlo"
   ]
  },
  {
   "cell_type": "markdown",
   "metadata": {},
   "source": [
    "### Main"
   ]
  }
 ],
 "metadata": {
  "kernelspec": {
   "display_name": "Python 3",
   "language": "python",
   "name": "python3"
  },
  "language_info": {
   "codemirror_mode": {
    "name": "ipython",
    "version": 3
   },
   "file_extension": ".py",
   "mimetype": "text/x-python",
   "name": "python",
   "nbconvert_exporter": "python",
   "pygments_lexer": "ipython3",
   "version": "3.8.3"
  }
 },
 "nbformat": 4,
 "nbformat_minor": 4
}
